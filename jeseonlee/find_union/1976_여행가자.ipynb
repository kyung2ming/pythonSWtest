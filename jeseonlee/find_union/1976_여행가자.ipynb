{
 "cells": [
  {
   "cell_type": "markdown",
   "metadata": {},
   "source": [
    "### 1976번 여행가자"
   ]
  },
  {
   "cell_type": "markdown",
   "metadata": {},
   "source": [
    "- 이 문제는 union find로 풀 수 있다.\n",
    "<br>\n",
    "\n",
    "- union 함수는 어떻게든 연결된 경우 같은 parent로 설정해주는 역할을 한다. 만약 연결되어 있다면 더 작은 값의 parent로 값이 설정된다.\n",
    "<br>\n",
    "\n",
    "- find 함수는 해당 node의 parent가 어떤 node인지 알려주는 역할을 한다.\n",
    "<br>\n",
    "\n",
    "- union 과정에서 find가 사용되므로 find 먼저 선언해준다.\n",
    "<br>\n",
    "\n",
    "- 여행이 계획된 도시가 모두 연결되어 있다면 YES를, 아니면 NO를 출력해주기만 하면 된다. 다시 말해, 도시가 모두 같은 parent를 가지면 YES, 아니면 NO를 출력하면 된다."
   ]
  },
  {
   "cell_type": "code",
   "execution_count": 4,
   "metadata": {},
   "outputs": [
    {
     "name": "stdout",
     "output_type": "stream",
     "text": [
      "3\n",
      "3\n",
      "0 1 0\n",
      "1 0 1\n",
      "0 1 0\n",
      "1 2 3\n",
      "YES\n"
     ]
    }
   ],
   "source": [
    "def findParent(city): # 도시의 parent를 찾는 def\n",
    "    if city == cities[city]: # 도시의 parent가 자기자신일 경우\n",
    "        return city\n",
    "    cities[city] = findParent(cities[city])# 도시의 parent가 자기자신이 아닌 경우\n",
    "    return cities[city]\n",
    "\n",
    "def unionCity(city1, city2): # 연결된 도시를 union 해주는 과정 \n",
    "    # 각 도시의 parent를 찾고 더 작은 parent의 값으로 변경\n",
    "    city1 = findParent(city1)\n",
    "    city2 = findParent(city2)\n",
    "    if city1 > city2:\n",
    "        cities[city1] = cities[city2]\n",
    "    else:\n",
    "        cities[city2] = cities[city1]\n",
    "        \n",
    "n = int(input()) # n은 200이하, 도시수\n",
    "m = int(input()) # m은 1000이하, 여행 계획에 속한 도시수\n",
    "cities = [i for i in range(n + 1)]\n",
    "\n",
    "for i in range(n): # 한줄씩 정보 받으면서 각 도시끼리 연결되어 있으면 union 하는 과정\n",
    "    conn = list(map(int, input().split()))\n",
    "    for j in range(n):\n",
    "        if conn[j]: # 연결 정보가 0 또는 1로 설정되어 있으므로\n",
    "            unionCity(i + 1, j + 1)\n",
    "            \n",
    "planCities = list(map(int, input().split()))\n",
    "\n",
    "answer = 'YES'\n",
    "# 1번 방법\n",
    "# for i, planCity in enumerate(planCities): # planCity들의 parent를 비교하는 반복문\n",
    "#     parent = findParent(planCity) # 도시의 parent를 찾는다.\n",
    "#     if i == 0:\n",
    "#         check = parent\n",
    "#         continue\n",
    "#     # 이전 노드의 parent와 현재 노드의 parent가 다르면,\n",
    "#     elif check != parent: \n",
    "#         answer = 'NO'\n",
    "#         break\n",
    "\n",
    "# 2번 방법\n",
    "for i in range(len(planCities) - 1):\n",
    "    if cities[planCities[i]] == cities[planCities[i + 1]]:\n",
    "        continue\n",
    "    else:\n",
    "        answer = 'NO'\n",
    "    \n",
    "print(answer)"
   ]
  }
 ],
 "metadata": {
  "kernelspec": {
   "display_name": "Python 3",
   "language": "python",
   "name": "python3"
  },
  "language_info": {
   "codemirror_mode": {
    "name": "ipython",
    "version": 3
   },
   "file_extension": ".py",
   "mimetype": "text/x-python",
   "name": "python",
   "nbconvert_exporter": "python",
   "pygments_lexer": "ipython3",
   "version": "3.8.5"
  }
 },
 "nbformat": 4,
 "nbformat_minor": 4
}
