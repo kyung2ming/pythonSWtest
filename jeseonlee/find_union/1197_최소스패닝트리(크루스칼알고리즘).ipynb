{
 "cells": [
  {
   "cell_type": "markdown",
   "metadata": {},
   "source": [
    "#### 1197_최소스패닝트리"
   ]
  },
  {
   "cell_type": "markdown",
   "metadata": {},
   "source": [
    "- 해당 문제는 find-union과 크루스칼 알고리즘 적용해서 푸는 문제\n",
    "    - edge를 weight순으로 정렬\n",
    "    - 정렬된 edge 리스트에서 순서대로 사이클을 형성하지 않는 간선을 선택\n",
    "    - 크루스칼 알고리즘의 경우 그리디방법이고, 최적의 값을 찾아주는 것으로 증명됐음\n",
    "- weight순으로 union할 경우 이미 연결된 노드가 뒤에 나태날 때 무시하기 때문에 최소 스패닝 트리의 가중치를 구할 수 있다."
   ]
  },
  {
   "cell_type": "code",
   "execution_count": 7,
   "metadata": {},
   "outputs": [
    {
     "name": "stdout",
     "output_type": "stream",
     "text": [
      "3 3\n",
      "1 2 1\n",
      "2 3 2\n",
      "1 3 3\n",
      "3\n"
     ]
    }
   ],
   "source": [
    "def findParent(node):\n",
    "    if node == parentNode[node]:\n",
    "        return node\n",
    "    node = findParent(parentNode[node])\n",
    "    return node\n",
    "    \n",
    "def unionNode(node1, node2):\n",
    "    node1 = findParent(node1)\n",
    "    node2 = findParent(node2)\n",
    "    if node1 > node2:\n",
    "        parentNode[node1] = parentNode[node2]\n",
    "    else:\n",
    "        parentNode[node2] = parentNode[node1]\n",
    "\n",
    "v, e = map(int, input().split())\n",
    "parentNode = [i for i in range(v + 1)] # 첫시작의 parent는 자기자신\n",
    "edge = []\n",
    "\n",
    "for _ in range(e): # edge append\n",
    "    a, b, c = map(int, input().split())\n",
    "    edge.append((a, b, c))\n",
    "    \n",
    "# 크루스칼 알고리즘 순서 1번\n",
    "edge.sort(key = lambda x: x[2]) # edge를 weight순으로 정렬\n",
    "\n",
    "# 크루스칼 알고리즘 순서 2번\n",
    "answer = 0\n",
    "for a, b, c in edge:\n",
    "    if findParent(a) != findParent(b):\n",
    "        unionNode(a, b)\n",
    "        answer += c\n",
    "        \n",
    "print(answer)"
   ]
  }
 ],
 "metadata": {
  "kernelspec": {
   "display_name": "Python 3",
   "language": "python",
   "name": "python3"
  },
  "language_info": {
   "codemirror_mode": {
    "name": "ipython",
    "version": 3
   },
   "file_extension": ".py",
   "mimetype": "text/x-python",
   "name": "python",
   "nbconvert_exporter": "python",
   "pygments_lexer": "ipython3",
   "version": "3.8.5"
  }
 },
 "nbformat": 4,
 "nbformat_minor": 4
}
