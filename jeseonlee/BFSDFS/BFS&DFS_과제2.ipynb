{
 "cells": [
  {
   "cell_type": "markdown",
   "metadata": {},
   "source": [
    "### BFS/DFS 문제"
   ]
  },
  {
   "cell_type": "markdown",
   "metadata": {},
   "source": [
    "1. 특정 거리의 도시 찾기"
   ]
  },
  {
   "cell_type": "code",
   "execution_count": null,
   "metadata": {},
   "outputs": [],
   "source": [
    "from collections import deque\n",
    "\n",
    "n, m, k, x = map(int, input().split())\n",
    "graph = [[] for _ in range(n + 1)] # 해당 행에 연결된 노드 저장하기 위한 배열\n",
    "\n",
    "for i in range(m): # 해당 행에 연결된 노드 저장\n",
    "    a, b = map(int, input().split())\n",
    "    graph[a].append(b)\n",
    "    \n",
    "dist = [-1 for _ in range(n + 1)]\n",
    "q = deque([x]) # deque() 내부에 값 넣을 때 단일값은 안되는듯...\n",
    "dist[x] = 0 # 자기 자신 거리 0으로 만들기\n",
    "\n",
    "while q: # BFS 방식\n",
    "    now = q.popleft()\n",
    "    for next_node in graph[now]:\n",
    "        if dist[next_node] == -1:\n",
    "            q.append(next_node)\n",
    "            dist[next_node] = dist[now] + 1\n",
    "            \n",
    "check = False\n",
    "result = []\n",
    "for i in range(len(dist)):\n",
    "    if dist[i] == k:\n",
    "        check = True\n",
    "        result.append(i)\n",
    "print('=========================================')\n",
    "if check == True:\n",
    "    result.sort()\n",
    "    for i in result:\n",
    "        print(i)\n",
    "else:\n",
    "    print(-1)"
   ]
  },
  {
   "cell_type": "markdown",
   "metadata": {},
   "source": [
    "2. 인구이동"
   ]
  },
  {
   "cell_type": "code",
   "execution_count": null,
   "metadata": {},
   "outputs": [],
   "source": [
    "from collections import deque\n",
    "\n",
    "n, l, r = map(int, input().split())\n",
    "graph = []\n",
    "for _ in range(n):\n",
    "    graph.append(list(map(int, input().split())))\n",
    "dx = [-1, 1, 0, 0]\n",
    "dy = [0, 0, -1, 1] # 상하좌우\n",
    "\n",
    "def process(x, y, index):\n",
    "    united = [] # 연합 목록\n",
    "    united.append((x, y)) # 현재 나라 연합 추가\n",
    "    union[x][y] = index # 연합 갱신\n",
    "    q = deque() # deque 선언\n",
    "    q.append((x, y)) # 현재 나라 q에 넣기\n",
    "    total = graph[x][y] # 인구수 세기\n",
    "    while q: # q가 빌 때까지 loop, BFS\n",
    "        x, y = q.popleft()\n",
    "        for i in range(4): # 상하좌우\n",
    "            nx = dx[i] + x\n",
    "            ny = dy[i] + y\n",
    "            if (nx >= 0 and nx < n) and (ny >= 0 and ny < n) and (union[nx][ny] == -1): \n",
    "                if l <= abs(graph[x][y] - graph[nx][ny]) and abs(graph[x][y] - graph[nx][ny]) <= r:\n",
    "                    q.append((nx, ny))\n",
    "                    total += graph[nx][ny]\n",
    "                    union[nx][ny] = index\n",
    "                    united.append((nx, ny))\n",
    "        \n",
    "        for i, j in united:\n",
    "            graph[x][y] = total // len(united)\n",
    "            \n",
    "total_cnt = 0\n",
    "\n",
    "while True:\n",
    "    union = [[-1] * n for _ in range(n)]\n",
    "    index = 0\n",
    "    for i in range(n):\n",
    "        for j in range(n):\n",
    "            if union[i][j] == -1:\n",
    "                process(i, j, index)\n",
    "                index += 1\n",
    "    if index == n * n:\n",
    "        break\n",
    "    total_cnt += 1\n",
    "    \n",
    "print(total_cnt)"
   ]
  },
  {
   "cell_type": "markdown",
   "metadata": {},
   "source": [
    "3. 연구소"
   ]
  },
  {
   "cell_type": "code",
   "execution_count": null,
   "metadata": {},
   "outputs": [],
   "source": []
  },
  {
   "cell_type": "markdown",
   "metadata": {},
   "source": [
    "4. 국영수(정렬)"
   ]
  },
  {
   "cell_type": "code",
   "execution_count": null,
   "metadata": {},
   "outputs": [],
   "source": [
    "n = int(input())\n",
    "lst = []\n",
    "# 리스트로 학생 이름 및 성적 입력\n",
    "for _ in range(n):\n",
    "    a, b, c, d = map(str, input().split())\n",
    "    lst.append([a, int(b), int(c), int(d)])\n",
    "\n",
    "# lambda로 여러 조건 걸어서 정렬\n",
    "lst.sort(key = lambda x: (-x[1], x[2], -x[3], x[0]))\n",
    "\n",
    "for student in lst:\n",
    "    print(student[0])"
   ]
  }
 ],
 "metadata": {
  "kernelspec": {
   "display_name": "Python 3",
   "language": "python",
   "name": "python3"
  },
  "language_info": {
   "codemirror_mode": {
    "name": "ipython",
    "version": 3
   },
   "file_extension": ".py",
   "mimetype": "text/x-python",
   "name": "python",
   "nbconvert_exporter": "python",
   "pygments_lexer": "ipython3",
   "version": "3.8.5"
  }
 },
 "nbformat": 4,
 "nbformat_minor": 4
}
