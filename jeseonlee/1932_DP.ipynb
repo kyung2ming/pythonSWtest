{
 "cells": [
  {
   "cell_type": "code",
   "execution_count": 69,
   "metadata": {},
   "outputs": [
    {
     "name": "stdout",
     "output_type": "stream",
     "text": [
      "5\n",
      "7\n",
      "3 8\n",
      "8 1 0\n",
      "2 7 4 4\n",
      "4 5 2 6 5\n"
     ]
    }
   ],
   "source": [
    "n = int(input())\n",
    "lst = [list(map(int, input().split())) for _ in range(n)]"
   ]
  },
  {
   "cell_type": "code",
   "execution_count": 72,
   "metadata": {},
   "outputs": [],
   "source": [
    "def solution(n, lst):\n",
    "    for i in range(1, n):        \n",
    "        for j in range(len(lst[i])):\n",
    "            if j == 0:\n",
    "                lst[i][j] += lst[i - 1][j]\n",
    "            elif i == j:\n",
    "                lst[i][j] += lst[i - 1][j - 1]    \n",
    "            else:\n",
    "                lst[i][j] += max(lst[i - 1][j], lst[i - 1][j - 1])\n",
    "    return max(lst[n - 1])"
   ]
  },
  {
   "cell_type": "code",
   "execution_count": 73,
   "metadata": {},
   "outputs": [
    {
     "data": {
      "text/plain": [
       "30"
      ]
     },
     "execution_count": 73,
     "metadata": {},
     "output_type": "execute_result"
    }
   ],
   "source": [
    "solution(n, lst)"
   ]
  },
  {
   "cell_type": "code",
   "execution_count": null,
   "metadata": {},
   "outputs": [],
   "source": [
    "lst[n - 1]"
   ]
  }
 ],
 "metadata": {
  "kernelspec": {
   "display_name": "Python 3",
   "language": "python",
   "name": "python3"
  },
  "language_info": {
   "codemirror_mode": {
    "name": "ipython",
    "version": 3
   },
   "file_extension": ".py",
   "mimetype": "text/x-python",
   "name": "python",
   "nbconvert_exporter": "python",
   "pygments_lexer": "ipython3",
   "version": "3.8.5"
  }
 },
 "nbformat": 4,
 "nbformat_minor": 4
}
