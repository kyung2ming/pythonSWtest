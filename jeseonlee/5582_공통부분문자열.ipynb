{
 "cells": [
  {
   "cell_type": "markdown",
   "metadata": {},
   "source": [
    "### 공통 부분 문자열\n",
    "두 문자열이 주어졌을 때, 두 문자열에 모두 포함된 가장 긴 공통 부분 문자열을 찾는 프로그램을 작성하시오.\n",
    "\n",
    "<br>\n",
    "\n",
    "어떤 문자열 s의 부분 문자열 t란, s에 t가 연속으로 나타나는 것을 말한다. 예를 들어, 문자열 ABRACADABRA의 부분 문자열은 ABRA, RAC, D, ACADABRA, ABRACADABRA, 빈 문자열 등이다. 하지만, ABRC, RAA, BA, K는 부분 문자열이 아니다.\n",
    "\n",
    "<br>\n",
    "\n",
    "두 문자열 ABRACADABRA와 ECADADABRBCRDARA의 공통 부분 문자열은 CA, CADA, ADABR, 빈 문자열 등이 있다. 이 중에서 가장 긴 공통 부분 문자열은 ADABR이며, 길이는 5이다. 또, 두 문자열이 UPWJCIRUCAXIIRGL와 SBQNYBSBZDFNEV인 경우에는 가장 긴 공통 부분 문자열은 빈 문자열이다."
   ]
  },
  {
   "cell_type": "code",
   "execution_count": 19,
   "metadata": {},
   "outputs": [
    {
     "name": "stdout",
     "output_type": "stream",
     "text": [
      "ABRACADABRA\n",
      "ECADADABRBCRDARA\n",
      "5\n"
     ]
    }
   ],
   "source": [
    "str_1 = input()\n",
    "str_2 = input()\n",
    "\n",
    "lst = [[0] * (len(str_2) + 1) for _ in range(len(str_1) + 1)]\n",
    "\n",
    "answer = 0\n",
    "position = 0\n",
    "\n",
    "for i in range(1, len(str_1) + 1):\n",
    "    for j in range(1, len(str_2) + 1):\n",
    "        if str_1[i - 1] == str_2[j - 1]:\n",
    "            lst[i][j] = lst[i - 1][j - 1] + 1\n",
    "            \n",
    "            if answer < lst[i][j]:\n",
    "                answer = lst[i][j]\n",
    "                position = j - 1\n",
    "print(answer)"
   ]
  }
 ],
 "metadata": {
  "kernelspec": {
   "display_name": "Python 3",
   "language": "python",
   "name": "python3"
  },
  "language_info": {
   "codemirror_mode": {
    "name": "ipython",
    "version": 3
   },
   "file_extension": ".py",
   "mimetype": "text/x-python",
   "name": "python",
   "nbconvert_exporter": "python",
   "pygments_lexer": "ipython3",
   "version": "3.8.5"
  }
 },
 "nbformat": 4,
 "nbformat_minor": 4
}
