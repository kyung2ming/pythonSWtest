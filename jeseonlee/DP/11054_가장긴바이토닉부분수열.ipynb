{
 "cells": [
  {
   "cell_type": "markdown",
   "metadata": {},
   "source": [
    "### 가장 긴 바이토닉 부분 수열\n",
    "수열 S가 어떤 수 Sk를 기준으로 S1 < S2 < ... Sk-1 < Sk > Sk+1 > ... SN-1 > SN을 만족한다면, 그 수열을 바이토닉 수열이라고 한다.\n",
    "\n",
    "<br>\n",
    "\n",
    "예를 들어, {10, 20, 30, 25, 20}과 {10, 20, 30, 40}, {50, 40, 25, 10} 은 바이토닉 수열이지만,  {1, 2, 3, 2, 1, 2, 3, 2, 1}과 {10, 20, 30, 40, 20, 30} 은 바이토닉 수열이 아니다.\n",
    "\n",
    "<br>\n",
    "\n",
    "수열 A가 주어졌을 때, 그 수열의 부분 수열 중 바이토닉 수열이면서 가장 긴 수열의 길이를 구하는 프로그램을 작성하시오.\n",
    "\n",
    "<br>\n",
    "\n",
    "첫째 줄에 수열 A의 크기 N이 주어지고, 둘째 줄에는 수열 A를 이루고 있는 Ai가 주어진다. (1 ≤ N ≤ 1,000, 1 ≤ Ai ≤ 1,000)\n",
    "\n",
    "<br>\n",
    "\n",
    "첫째 줄에 수열 A의 부분 수열 중에서 가장 긴 바이토닉 수열의 길이를 출력한다."
   ]
  },
  {
   "cell_type": "code",
   "execution_count": 4,
   "metadata": {},
   "outputs": [
    {
     "name": "stdout",
     "output_type": "stream",
     "text": [
      "7\n"
     ]
    }
   ],
   "source": [
    "n = int(input())\n",
    "lst = list(map(int, input().split()))\n",
    "\n",
    "dp = [0 for i in range(n)]\n",
    "dp2 = [0 for i in range(n)]\n",
    " \n",
    "for i in range(n):\n",
    "    for j in range(i):\n",
    "         if (lst[i] > lst[j] and dp[i] < dp[j]):\n",
    "            dp[i] = dp[j]\n",
    "    dp[i] += 1 \n",
    "\n",
    "for i in range(n - 1, -1, -1):\n",
    "    for j in range(n - 1, i, -1):\n",
    "         if (lst[i] > lst[j] and dp2[i] < dp2[j]):\n",
    "            dp2[i] = dp2[j]\n",
    "    dp2[i] += 1 \n",
    "\n",
    "max = 0\n",
    "\n",
    "for i in range(n):\n",
    "    if dp[i] + dp2[i] > max:\n",
    "        max = dp[i] + dp2[i]\n",
    "        \n",
    "print(max - 1)"
   ]
  }
 ],
 "metadata": {
  "kernelspec": {
   "display_name": "Python 3",
   "language": "python",
   "name": "python3"
  },
  "language_info": {
   "codemirror_mode": {
    "name": "ipython",
    "version": 3
   },
   "file_extension": ".py",
   "mimetype": "text/x-python",
   "name": "python",
   "nbconvert_exporter": "python",
   "pygments_lexer": "ipython3",
   "version": "3.8.5"
  }
 },
 "nbformat": 4,
 "nbformat_minor": 4
}
