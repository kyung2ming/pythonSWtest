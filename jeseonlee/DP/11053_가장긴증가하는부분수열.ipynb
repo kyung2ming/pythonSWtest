{
 "cells": [
  {
   "cell_type": "markdown",
   "metadata": {},
   "source": [
    "### 가장 긴 증가하는 부분 수열\n",
    "수열 A가 주어졌을 때, 가장 긴 증가하는 부분 수열을 구하는 프로그램을 작성하시오.\n",
    "\n",
    "<br>\n",
    "\n",
    "예를 들어, 수열 A = {10, 20, 10, 30, 20, 50} 인 경우에 가장 긴 증가하는 부분 수열은 A = {10, 20, 10, 30, 20, 50} 이고, 길이는 4이다.\n",
    "\n",
    "<br>\n",
    "\n",
    "첫째 줄에 수열 A의 크기 N (1 ≤ N ≤ 1,000)이 주어진다.\n",
    "\n",
    "둘째 줄에는 수열 A를 이루고 있는 Ai가 주어진다. (1 ≤ Ai ≤ 1,000)"
   ]
  },
  {
   "cell_type": "code",
   "execution_count": 12,
   "metadata": {},
   "outputs": [
    {
     "name": "stdout",
     "output_type": "stream",
     "text": [
      "6\n",
      "10 20 10 30 20 50\n",
      "4\n"
     ]
    }
   ],
   "source": [
    "n = int(input())\n",
    "lst = list(map(int, input().split()))\n",
    "\n",
    "dp = [1 for _ in range(n)]\n",
    "\n",
    "for i in range(n):\n",
    "    for j in range(i):\n",
    "        if lst[i] > lst[j]:\n",
    "            dp[i] = max(dp[i], dp[j] + 1)\n",
    "            \n",
    "print(max(dp))"
   ]
  }
 ],
 "metadata": {
  "kernelspec": {
   "display_name": "Python 3",
   "language": "python",
   "name": "python3"
  },
  "language_info": {
   "codemirror_mode": {
    "name": "ipython",
    "version": 3
   },
   "file_extension": ".py",
   "mimetype": "text/x-python",
   "name": "python",
   "nbconvert_exporter": "python",
   "pygments_lexer": "ipython3",
   "version": "3.8.5"
  }
 },
 "nbformat": 4,
 "nbformat_minor": 4
}
